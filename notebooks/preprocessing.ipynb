{
 "cells": [
  {
   "cell_type": "code",
   "execution_count": 13,
   "id": "cbd09a16",
   "metadata": {},
   "outputs": [],
   "source": [
    "import os\n",
    "import re\n",
    "import json\n",
    "from pathlib import Path\n",
    "\n",
    "\n",
    "class RAGDataIngestion:\n",
    "    def __init__(self, base_dir: str, output_path: str):\n",
    "        self.base_dir = base_dir\n",
    "        self.output_path = output_path\n",
    "\n",
    "    # Function to extract raw text from a markdown file\n",
    "    def _extract_text(self, md_path: Path) -> str:\n",
    "        with open(md_path, \"r\", encoding=\"utf-8\") as file:\n",
    "            return file.read()\n",
    "\n",
    "    # Function to format markdown content into structured JSON\n",
    "    def _structure_entry(self, crop: str, disease: str, content: str) -> dict:\n",
    "        def _extract_section(text: str, header: str) -> str:\n",
    "            pattern = rf\"### {header}\\n+(.*?)(?=\\n### |\\Z)\"\n",
    "            match = re.search(pattern, text, re.DOTALL | re.IGNORECASE)\n",
    "            return match.group(1).strip() if match else \"\"\n",
    "\n",
    "        return {\n",
    "            \"crop\": crop,\n",
    "            \"disease\": disease,\n",
    "            \"symptoms\": _extract_section(content, \"Symptoms\"),\n",
    "            \"cause\": _extract_section(content, \"Cause\"),\n",
    "            \"management\": _extract_section(content, \"Management\"),\n",
    "        }\n",
    "\n",
    "    # Walk through the knowledge base directory and process markdown files\n",
    "    def ingest_knowledge_base(self) -> list:\n",
    "        data = []\n",
    "\n",
    "        for crop_folder in Path(self.base_dir).iterdir():\n",
    "            if crop_folder.is_dir():\n",
    "                crop_name = crop_folder.name\n",
    "\n",
    "                for md_file in crop_folder.glob(\"*.md\"):\n",
    "                    disease_name = md_file.stem\n",
    "                    raw_content = self._extract_text(md_file)\n",
    "                    entry = self._structure_entry(crop_name, disease_name, raw_content)\n",
    "                    data.append(entry)\n",
    "\n",
    "        return data\n",
    "\n",
    "    # Save data to a JSON file\n",
    "    @staticmethod\n",
    "    def save_to_json(data: list, output_path: str):\n",
    "        with open(output_path, \"w\", encoding=\"utf-8\") as f:\n",
    "            json.dump(data, f, indent=2, ensure_ascii=False)\n"
   ]
  },
  {
   "cell_type": "code",
   "execution_count": 14,
   "id": "6edb746a",
   "metadata": {},
   "outputs": [],
   "source": [
    "import os\n",
    "\n",
    "current_dir = os.getcwd()  # \n",
    "data_path = os.path.join(current_dir, \"..\", \"..\", \"knowledge_base\")  # adjust relative path if needed\n",
    "data_path = os.path.abspath(data_path)\n",
    "\n",
    "rag = RAGDataIngestion(base_dir=data_path, output_path= \"./formatted_knowledge.json\")\n",
    "json_data = rag.ingest_knowledge_base()\n"
   ]
  },
  {
   "cell_type": "code",
   "execution_count": 17,
   "id": "84fa5f2a",
   "metadata": {},
   "outputs": [
    {
     "name": "stdout",
     "output_type": "stream",
     "text": [
      "[{'crop': 'Cashew', 'disease': 'anthracnose', 'symptoms': '- Sunken, reddish-brown lesions on main stalk, branches, and immature fruits.\\n- Crinkling of flower buds and young flowers.\\n- Black lesions on immature fruits.', 'cause': '- Fungal infection (Colletotrichum species).', 'management': '- Use healthy, disease-free seedlings.\\n- Prune and remove dead or diseased twigs, branches, and plant debris.\\n- Ensure proper spacing and aeration.\\n- Apply mancozeb or folpet fungicides as recommended.\\n- Use insecticides to control sucking insects if needed.'}, {'crop': 'Cashew', 'disease': 'gummosis', 'symptoms': '- Cankers on trunk and branches, oozing gum-like resin.\\n- Dieback of branches, yellowing of leaves, slow growth.', 'cause': '- Fungal infection (Lasiodiplodia theobromae), often in stressed trees.', 'management': '- Prune and destroy infected branches.\\n- Surgically remove cankers.\\n- Apply copper-based fungicides.\\n- Use resistant clones and proper management practices.'}]\n"
     ]
    }
   ],
   "source": [
    "print(json_data[0:2])"
   ]
  },
  {
   "cell_type": "code",
   "execution_count": null,
   "id": "91d44f80",
   "metadata": {},
   "outputs": [],
   "source": [
    "import os\n",
    "from dotenv import load_dotenv\n",
    "from langchain.embeddings import OpenAIEmbeddings\n",
    "from langchain.vectorstores import FAISS\n",
    "\n",
    "# Load .env\n",
    "load_dotenv(override=True)\n",
    "OPENAI_API_KEY = os.getenv(\"OPENAI_API_KEY\")\n",
    "\n",
    "# Initialize embeddings\n",
    "embedding_model = OpenAIEmbeddings(openai_api_key=OPENAI_API_KEY)\n",
    "\n",
    "# Format each entry as a string chunk\n",
    "texts = [\n",
    "    f\"Crop: {entry['crop']}\\nDisease: {entry['disease']}\\n\\nSymptoms:\\n{entry['symptoms']}\\n\\nCause:\\n{entry['cause']}\\n\\nManagement:\\n{entry['management']}\"\n",
    "    for entry in json_data\n",
    "]\n",
    "\n"
   ]
  },
  {
   "cell_type": "code",
   "execution_count": 29,
   "id": "21d297a3",
   "metadata": {},
   "outputs": [],
   "source": [
    "\n",
    "# Create FAISS index\n",
    "faiss_index = FAISS.from_texts(texts, embedding_model)\n",
    "\n",
    "# (Optional) Save index\n",
    "faiss_index.save_local(\"faiss_index\")"
   ]
  },
  {
   "cell_type": "code",
   "execution_count": 33,
   "id": "ccba4508",
   "metadata": {},
   "outputs": [
    {
     "name": "stdout",
     "output_type": "stream",
     "text": [
      "\n",
      "Result 1:\n",
      "Crop: Cassava\n",
      "Disease: green_mite\n",
      "\n",
      "Symptoms:\n",
      "- Green to yellowish mites, barely visible, appear as tiny spots.\n",
      "- Feed on young leaves and sprouts.\n",
      "- Leaves develop chlorotic spots, become mottled, die, and may fall off, leaving shoot tip like a \"candle stick.\"\n",
      "- Roots show stunted bulking and lack of fresh growth.\n",
      "- Symptoms can resemble cassava mosaic virus.\n",
      "\n",
      "Cause:\n",
      "- Cassava green mite (Mononychellus tanajoa), spread by human activity, wind, and water.\n",
      "\n",
      "Management:\n",
      "- Use resistant varieties and clean planting material.\n",
      "- Plant early in rainy season.\n",
      "- Avoid planting downwind from infested fields.\n",
      "- Limit movement in infested fields.\n",
      "- Intercrop with pigeon pea.\n",
      "- Encourage natural predators by reducing chemical use.\n",
      "- Rotate with non-host crops.\n",
      "- Monitor regularly and destroy infested stems.\n",
      "- Release natural enemies (predatory mites/insects).\n",
      "- Remove and destroy infested tips.\n",
      "- Use garlic or onion-based sprays as described.\n"
     ]
    }
   ],
   "source": [
    "\n",
    "# Load the FAISS index from the saved directory\n",
    "faiss_index = FAISS.load_local(\"faiss_index\", embeddings=embedding_model, \n",
    "allow_dangerous_deserialization=True,\n",
    ")\n",
    "\n",
    "query = \"what is cassava green mite?\"\n",
    "results = faiss_index.similarity_search(query, k=1)\n",
    "\n",
    "for i, doc in enumerate(results):\n",
    "    print(f\"\\nResult {i+1}:\\n{doc.page_content}\")\n",
    "\n"
   ]
  },
  {
   "cell_type": "code",
   "execution_count": null,
   "id": "c52001c8",
   "metadata": {},
   "outputs": [
    {
     "name": "stdout",
     "output_type": "stream",
     "text": [
      "\n",
      "Result 1:\n",
      "Crop: Maize\n",
      "Disease: fall_armyworm\n",
      "\n",
      "Symptoms:\n",
      "- Feeds on more than 80 plant species, including maize.\n",
      "- Damages leaves, growing points, and cobs.\n",
      "- Caterpillars hide in foliage during the day, feed at night.\n",
      "- Severe feeding can kill growing points and bore into cobs.\n",
      "\n",
      "Cause:\n",
      "- Fall armyworm (Spodoptera frugiperda) infestation.\n",
      "\n",
      "Management:\n",
      "- Monitor fields for early detection.\n",
      "- Apply insecticides directly into plant funnel at early larval stages.\n",
      "- Use Bacillus thuringiensis-based biological pesticides.\n",
      "- Ground sprays over rows are more effective than general sprays.\n"
     ]
    }
   ],
   "source": [
    "query = \"what is fall army worm?\"\n",
    "results = faiss_index.similarity_search(query, k=1)\n",
    "\n",
    "for i, doc in enumerate(results):\n",
    "    print(f\"\\nResult {i+1}:\\n{doc.page_content}\")\n"
   ]
  },
  {
   "cell_type": "code",
   "execution_count": 41,
   "id": "d1619c88",
   "metadata": {},
   "outputs": [],
   "source": [
    "retriever = faiss_index.as_retriever(search_type=\"similarity\", search_kwargs={\"k\": 1})\n",
    "rel_docs = retriever.get_relevant_documents(\"what is fall army worm?\")\n",
    "contents = [doc.page_content for doc in rel_docs]\n"
   ]
  },
  {
   "cell_type": "code",
   "execution_count": 42,
   "id": "2ef59b6c",
   "metadata": {},
   "outputs": [
    {
     "data": {
      "text/plain": [
       "['Crop: Maize\\nDisease: fall_armyworm\\n\\nSymptoms:\\n- Feeds on more than 80 plant species, including maize.\\n- Damages leaves, growing points, and cobs.\\n- Caterpillars hide in foliage during the day, feed at night.\\n- Severe feeding can kill growing points and bore into cobs.\\n\\nCause:\\n- Fall armyworm (Spodoptera frugiperda) infestation.\\n\\nManagement:\\n- Monitor fields for early detection.\\n- Apply insecticides directly into plant funnel at early larval stages.\\n- Use Bacillus thuringiensis-based biological pesticides.\\n- Ground sprays over rows are more effective than general sprays.']"
      ]
     },
     "execution_count": 42,
     "metadata": {},
     "output_type": "execute_result"
    }
   ],
   "source": [
    "contents"
   ]
  }
 ],
 "metadata": {
  "kernelspec": {
   "display_name": ".venv",
   "language": "python",
   "name": "python3"
  },
  "language_info": {
   "codemirror_mode": {
    "name": "ipython",
    "version": 3
   },
   "file_extension": ".py",
   "mimetype": "text/x-python",
   "name": "python",
   "nbconvert_exporter": "python",
   "pygments_lexer": "ipython3",
   "version": "3.10.11"
  }
 },
 "nbformat": 4,
 "nbformat_minor": 5
}
